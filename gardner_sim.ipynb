{
 "cells": [
  {
   "cell_type": "code",
   "execution_count": 123,
   "metadata": {},
   "outputs": [],
   "source": [
    "import numpy as np\n",
    "import matplotlib.pyplot as plt\n",
    "%matplotlib inline"
   ]
  },
  {
   "cell_type": "code",
   "execution_count": 162,
   "metadata": {},
   "outputs": [],
   "source": [
    "u0 = 100 # initial conditions for u and v\n",
    "v0 = 99\n",
    "\n",
    "a1 = 100 # a1 and a2 are the alphas: synthesis rates for u and v, respectively\n",
    "a2 = 100\n",
    "beta = 3 # beta & gamma are cooperativity values \n",
    "gamma = 3\n",
    "\n",
    "T = 50.0  # total time\n",
    "dt = .1  # time step\n",
    "n = int(T / dt)  # number of iterations\n",
    "\n",
    "u = [None]*n # arrays to store u(t), v(t)\n",
    "v = [None]*n\n",
    "\n",
    "u[0] = u0 # start with the initial conditions\n",
    "v[0] = v0"
   ]
  },
  {
   "cell_type": "code",
   "execution_count": 163,
   "metadata": {},
   "outputs": [],
   "source": [
    "for i in range (n-1):\n",
    "    last_u = u[i] # what was the last point\n",
    "    last_v = v[i]\n",
    "    u[i+1] = last_u + ((a1 / (1 + last_v**beta)) - last_u) * dt # update with the last point plus dt * the new value\n",
    "    v[i+1] = last_v + ((a2 / (1 + last_u**gamma)) - last_v) * dt"
   ]
  },
  {
   "cell_type": "code",
   "execution_count": 164,
   "metadata": {},
   "outputs": [
    {
     "data": {
      "text/plain": [
       "([<matplotlib.axis.XTick at 0x7f706386ad68>,\n",
       "  <matplotlib.axis.XTick at 0x7f706386a6a0>,\n",
       "  <matplotlib.axis.XTick at 0x7f706386a3c8>,\n",
       "  <matplotlib.axis.XTick at 0x7f7063bdf908>,\n",
       "  <matplotlib.axis.XTick at 0x7f7063bd09b0>,\n",
       "  <matplotlib.axis.XTick at 0x7f7063bd0da0>],\n",
       " <a list of 6 Text xticklabel objects>)"
      ]
     },
     "execution_count": 164,
     "metadata": {},
     "output_type": "execute_result"
    },
    {
     "data": {
      "image/png": "[encoded data removed]",
      "text/plain": [
       "<Figure size 432x288 with 1 Axes>"
      ]
     },
     "metadata": {
      "needs_background": "light"
     },
     "output_type": "display_data"
    }
   ],
   "source": [
    "plt.plot(range(n), u, color='blue') # plot\n",
    "plt.plot(range(n), v, color='green')\n",
    "tic = n/5.\n",
    "lab = int(tic * dt)\n",
    "plt.xticks([0, tic, tic*2, tic*3, tic*4, tic*5], [0, lab, lab*2, lab*3, lab*4, lab*5])"
   ]
  },
  {
   "cell_type": "code",
   "execution_count": 165,
   "metadata": {},
   "outputs": [
    {
     "data": {
      "text/plain": [
       "96.25129180838833"
      ]
     },
     "execution_count": 165,
     "metadata": {},
     "output_type": "execute_result"
    }
   ],
   "source": [
    "u[100]"
   ]
  },
  {
   "cell_type": "code",
   "execution_count": 166,
   "metadata": {},
   "outputs": [
    {
     "data": {
      "text/plain": [
       "0.030208292404725563"
      ]
     },
     "execution_count": 166,
     "metadata": {},
     "output_type": "execute_result"
    }
   ],
   "source": [
    "v[100]"
   ]
  },
  {
   "cell_type": "code",
   "execution_count": null,
   "metadata": {},
   "outputs": [],
   "source": []
  },
  {
   "cell_type": "code",
   "execution_count": null,
   "metadata": {},
   "outputs": [],
   "source": []
  }
 ],
 "metadata": {
  "kernelspec": {
   "display_name": "Python 3",
   "language": "python",
   "name": "python3"
  },
  "language_info": {
   "codemirror_mode": {
    "name": "ipython",
    "version": 3
   },
   "file_extension": ".py",
   "mimetype": "text/x-python",
   "name": "python",
   "nbconvert_exporter": "python",
   "pygments_lexer": "ipython3",
   "version": "3.6.6"
  }
 },
 "nbformat": 4,
 "nbformat_minor": 2
}
