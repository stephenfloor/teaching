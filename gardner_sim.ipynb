{
 "cells": [
  {
   "cell_type": "code",
   "execution_count": 2,
   "metadata": {},
   "outputs": [],
   "source": [
    "import numpy as np\n",
    "import matplotlib.pyplot as plt\n",
    "%matplotlib inline"
   ]
  },
  {
   "cell_type": "code",
   "execution_count": 16,
   "metadata": {},
   "outputs": [],
   "source": [
    "u0 = 100 # initial conditions for u and v\n",
    "v0 = 100\n",
    "\n",
    "a1 = 100 # a1 and a2 are the alphas: synthesis rates for u and v, respectively\n",
    "a2 = 100\n",
    "beta = 1 # beta & gamma are cooperativity values \n",
    "gamma = 1\n",
    "\n",
    "T = 50.0  # total time\n",
    "dt = .1  # time step\n",
    "n = int(T / dt)  # number of iterations\n",
    "\n",
    "u = [None]*n # arrays to store u(t), v(t)\n",
    "v = [None]*n\n",
    "\n",
    "u[0] = u0 # start with the initial conditions\n",
    "v[0] = v0"
   ]
  },
  {
   "cell_type": "code",
   "execution_count": 17,
   "metadata": {},
   "outputs": [],
   "source": [
    "for i in range (n-1):\n",
    "    last_u = u[i] # what was the last point\n",
    "    last_v = v[i]\n",
    "    u[i+1] = last_u + ((a1 / (1 + last_v**beta)) - last_u) * dt # update with the last point plus dt * the new value\n",
    "    v[i+1] = last_v + ((a2 / (1 + last_u**gamma)) - last_v) * dt"
   ]
  },
  {
   "cell_type": "code",
   "execution_count": 18,
   "metadata": {},
   "outputs": [
    {
     "data": {
      "text/plain": [
       "([<matplotlib.axis.XTick at 0x7f97ca4ce208>,\n",
       "  <matplotlib.axis.XTick at 0x7f97ca4d6b70>,\n",
       "  <matplotlib.axis.XTick at 0x7f97ca4d6898>,\n",
       "  <matplotlib.axis.XTick at 0x7f97ca4f4748>,\n",
       "  <matplotlib.axis.XTick at 0x7f97ca4f4c18>,\n",
       "  <matplotlib.axis.XTick at 0x7f97ca4fa160>],\n",
       " <a list of 6 Text xticklabel objects>)"
      ]
     },
     "execution_count": 18,
     "metadata": {},
     "output_type": "execute_result"
    },
    {
     "data": {
      "image/png": "[encoded data removed]",
      "text/plain": [
       "<Figure size 432x288 with 1 Axes>"
      ]
     },
     "metadata": {
      "needs_background": "light"
     },
     "output_type": "display_data"
    }
   ],
   "source": [
    "plt.plot(range(n), u, color='blue') # plot\n",
    "plt.plot(range(n), v, color='green')\n",
    "tic = n/5.\n",
    "lab = int(tic * dt)\n",
    "plt.xticks([0, tic, tic*2, tic*3, tic*4, tic*5], [0, lab, lab*2, lab*3, lab*4, lab*5])"
   ]
  },
  {
   "cell_type": "code",
   "execution_count": 6,
   "metadata": {},
   "outputs": [
    {
     "data": {
      "text/plain": [
       "96.25129180838833"
      ]
     },
     "execution_count": 6,
     "metadata": {},
     "output_type": "execute_result"
    }
   ],
   "source": [
    "u[100]"
   ]
  },
  {
   "cell_type": "code",
   "execution_count": 7,
   "metadata": {},
   "outputs": [
    {
     "data": {
      "text/plain": [
       "0.030208292404725563"
      ]
     },
     "execution_count": 7,
     "metadata": {},
     "output_type": "execute_result"
    }
   ],
   "source": [
    "v[100]"
   ]
  },
  {
   "cell_type": "code",
   "execution_count": 19,
   "metadata": {},
   "outputs": [
    {
     "data": {
      "text/plain": [
       "([<matplotlib.axis.XTick at 0x7f97ca4ace10>,\n",
       "  <matplotlib.axis.XTick at 0x7f97ca4ac748>,\n",
       "  <matplotlib.axis.XTick at 0x7f97ca4ac4e0>,\n",
       "  <matplotlib.axis.XTick at 0x7f97ca44c390>,\n",
       "  <matplotlib.axis.XTick at 0x7f97ca44c860>,\n",
       "  <matplotlib.axis.XTick at 0x7f97ca44cd30>],\n",
       " <a list of 6 Text xticklabel objects>)"
      ]
     },
     "execution_count": 19,
     "metadata": {},
     "output_type": "execute_result"
    },
    {
     "data": {
      "image/png": "[encoded data removed]",
      "text/plain": [
       "<Figure size 432x288 with 1 Axes>"
      ]
     },
     "metadata": {
      "needs_background": "light"
     },
     "output_type": "display_data"
    }
   ],
   "source": [
    "# repeat the above but with a fluctuation at T/2 to test for stability\n",
    "fluctuation_fraction = 0.1\n",
    "\n",
    "for i in range (n-1):\n",
    "    last_u = u[i] # what was the last point\n",
    "    last_v = v[i]\n",
    "    u[i+1] = last_u + ((a1 / (1 + last_v**beta)) - last_u) * dt # update with the last point plus dt * the new value\n",
    "    v[i+1] = last_v + ((a2 / (1 + last_u**gamma)) - last_v) * dt\n",
    "    \n",
    "    if i == n/2: # inject noise\n",
    "        u[i+1] += u[i+1]*fluctuation_fraction\n",
    "        v[i+1] -= v[i+1]*fluctuation_fraction\n",
    "    \n",
    "plt.plot(range(n), u, color='blue') # plot\n",
    "plt.plot(range(n), v, color='green')\n",
    "tic = n/5.\n",
    "lab = int(tic * dt)\n",
    "plt.xticks([0, tic, tic*2, tic*3, tic*4, tic*5], [0, lab, lab*2, lab*3, lab*4, lab*5])"
   ]
  },
  {
   "cell_type": "code",
   "execution_count": null,
   "metadata": {},
   "outputs": [],
   "source": []
  }
 ],
 "metadata": {
  "kernelspec": {
   "display_name": "Python 3",
   "language": "python",
   "name": "python3"
  },
  "language_info": {
   "codemirror_mode": {
    "name": "ipython",
    "version": 3
   },
   "file_extension": ".py",
   "mimetype": "text/x-python",
   "name": "python",
   "nbconvert_exporter": "python",
   "pygments_lexer": "ipython3",
   "version": "3.6.6"
  }
 },
 "nbformat": 4,
 "nbformat_minor": 2
}
