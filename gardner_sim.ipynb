{
 "cells": [
  {
   "cell_type": "code",
   "execution_count": 1,
   "metadata": {},
   "outputs": [],
   "source": [
    "import numpy as np\n",
    "import matplotlib.pyplot as plt\n",
    "%matplotlib inline"
   ]
  },
  {
   "cell_type": "code",
   "execution_count": 7,
   "metadata": {},
   "outputs": [],
   "source": [
    "u0 = 100 # initial conditions for u and v. Try: setting u0 = v0, setting them far apart\n",
    "v0 = 99\n",
    "\n",
    "a1 = 100 # a1 and a2 are the alphas: synthesis rates for u and v, respectively\n",
    "a2 = 100\n",
    "beta = 3 # beta & gamma are cooperativity values. Try: no cooperativity (beta = gamma = 1, asymmetric cooperativity) \n",
    "gamma = 3\n",
    "\n",
    "T = 50.0  # total time\n",
    "dt = .1  # time step\n",
    "n = int(T / dt)  # number of iterations\n",
    "\n",
    "u = [None]*n # arrays to store u(t), v(t)\n",
    "v = [None]*n\n",
    "\n",
    "u[0] = u0 # start with the initial conditions\n",
    "v[0] = v0"
   ]
  },
  {
   "cell_type": "code",
   "execution_count": 8,
   "metadata": {},
   "outputs": [],
   "source": [
    "for i in range (n-1):\n",
    "    last_u = u[i] # what was the last point\n",
    "    last_v = v[i]\n",
    "    u[i+1] = last_u + ((a1 / (1 + last_v**beta)) - last_u) * dt # update with the last point plus dt * the new value\n",
    "    v[i+1] = last_v + ((a2 / (1 + last_u**gamma)) - last_v) * dt"
   ]
  },
  {
   "cell_type": "code",
   "execution_count": 9,
   "metadata": {},
   "outputs": [
    {
     "data": {
      "text/plain": [
       "Text(0, 0.5, 'Abundance')"
      ]
     },
     "execution_count": 9,
     "metadata": {},
     "output_type": "execute_result"
    },
    {
     "data": {
      "image/png": "[encoded data removed]",
      "text/plain": [
       "<Figure size 432x288 with 1 Axes>"
      ]
     },
     "metadata": {
      "needs_background": "light"
     },
     "output_type": "display_data"
    }
   ],
   "source": [
    "plt.plot(range(n), u, color='blue', label='u') # plot\n",
    "plt.plot(range(n), v, color='green', label='v')\n",
    "tic = n/5.\n",
    "lab = int(tic * dt)\n",
    "plt.xticks([0, tic, tic*2, tic*3, tic*4, tic*5], [0, lab, lab*2, lab*3, lab*4, lab*5])\n",
    "plt.legend(loc='upper right')\n",
    "plt.xlabel('Time')\n",
    "plt.ylabel('Abundance')"
   ]
  },
  {
   "cell_type": "code",
   "execution_count": 11,
   "metadata": {},
   "outputs": [
    {
     "data": {
      "text/plain": [
       "99.99999999989993"
      ]
     },
     "execution_count": 11,
     "metadata": {},
     "output_type": "execute_result"
    }
   ],
   "source": [
    "u[int(n * 0.95)] # check the value at the end of the simulation"
   ]
  },
  {
   "cell_type": "code",
   "execution_count": 12,
   "metadata": {},
   "outputs": [
    {
     "data": {
      "text/plain": [
       "9.999990000040042e-05"
      ]
     },
     "execution_count": 12,
     "metadata": {},
     "output_type": "execute_result"
    }
   ],
   "source": [
    "v[int(n * 0.95)]"
   ]
  },
  {
   "cell_type": "code",
   "execution_count": 14,
   "metadata": {},
   "outputs": [
    {
     "data": {
      "text/plain": [
       "Text(0, 0.5, 'Abundance')"
      ]
     },
     "execution_count": 14,
     "metadata": {},
     "output_type": "execute_result"
    },
    {
     "data": {
      "image/png": "[encoded data removed]",
      "text/plain": [
       "<Figure size 432x288 with 1 Axes>"
      ]
     },
     "metadata": {
      "needs_background": "light"
     },
     "output_type": "display_data"
    }
   ],
   "source": [
    "# repeat the above but with a fluctuation at T/2 to test for stability\n",
    "fluctuation_fraction = 0.1 # higher values are stronger fluctuations\n",
    "\n",
    "for i in range (n-1):\n",
    "    last_u = u[i] # what was the last point\n",
    "    last_v = v[i]\n",
    "    u[i+1] = last_u + ((a1 / (1 + last_v**beta)) - last_u) * dt # update with the last point plus dt * the new value\n",
    "    v[i+1] = last_v + ((a2 / (1 + last_u**gamma)) - last_v) * dt\n",
    "    \n",
    "    if i == n/2: # inject noise\n",
    "        u[i+1] += u[i+1]*fluctuation_fraction\n",
    "        v[i+1] -= v[i+1]*fluctuation_fraction\n",
    "    \n",
    "plt.plot(range(n), u, color='blue', label='u') # plot\n",
    "plt.plot(range(n), v, color='green', label='v')\n",
    "tic = n/5.\n",
    "lab = int(tic * dt)\n",
    "plt.xticks([0, tic, tic*2, tic*3, tic*4, tic*5], [0, lab, lab*2, lab*3, lab*4, lab*5])\n",
    "plt.legend(loc='upper right')\n",
    "plt.xlabel('Time')\n",
    "plt.ylabel('Abundance')"
   ]
  },
  {
   "cell_type": "code",
   "execution_count": null,
   "metadata": {},
   "outputs": [],
   "source": []
  }
 ],
 "metadata": {
  "kernelspec": {
   "display_name": "Python 3",
   "language": "python",
   "name": "python3"
  },
  "language_info": {
   "codemirror_mode": {
    "name": "ipython",
    "version": 3
   },
   "file_extension": ".py",
   "mimetype": "text/x-python",
   "name": "python",
   "nbconvert_exporter": "python",
   "pygments_lexer": "ipython3",
   "version": "3.6.6"
  }
 },
 "nbformat": 4,
 "nbformat_minor": 2
}
